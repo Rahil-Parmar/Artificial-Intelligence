{
  "nbformat": 4,
  "nbformat_minor": 0,
  "metadata": {
    "colab": {
      "name": "svm.ipynb",
      "provenance": []
    },
    "kernelspec": {
      "name": "python3",
      "display_name": "Python 3"
    },
    "language_info": {
      "name": "python"
    }
  },
  "cells": [
    {
      "cell_type": "code",
      "execution_count": 232,
      "metadata": {
        "id": "oaBj1UNxvwEf"
      },
      "outputs": [],
      "source": [
        "import numpy as np\n",
        "import matplotlib.pyplot as plt\n",
        "from mlxtend.plotting.decision_regions import plot_decision_regions\n",
        "\n",
        "%matplotlib inline\n",
        "\n",
        "def linear_kernel(x1, x2,degree):\n",
        "    return x1.T @ x2\n",
        "\n",
        "def polynomial_kernel(x1,x2,degree):\n",
        "    # print(f'x1.shape::{x1.shape}')\n",
        "    # print(f'x2.shape{x2.shape}')\n",
        "    return pow(x1 @ x2.T,degree)\n",
        "\n",
        "class svm():\n",
        "    def __init__(self, kernel='linear', degree = 3,c=1.0, tol=1e-3,eps = 0.001, maxiter=1000):\n",
        "        self._kernel = kernel\n",
        "        self._tol = tol\n",
        "        self._maxiter = maxiter\n",
        "        self._degree = degree\n",
        "        if self._kernel == 'linear':\n",
        "            self._k = linear_kernel\n",
        "        elif self._kernel == 'poly':\n",
        "            self._k = polynomial_kernel\n",
        "        self._c = c\n",
        "        \n",
        "    def _init_params(self):\n",
        "        self._error_cache = np.zeros(self._data.shape[0])\n",
        "        self._alphas = np.ones(self._data.shape[0]) * .1\n",
        "        self._b = 0\n",
        "        \n",
        "        if self._kernel == 'linear':\n",
        "            self._weights = np.random.rand(self._data.shape[1])\n",
        "\n",
        "    def predict_score(self, x):\n",
        "        \"\"\"Predicts a raw score (not classification)\n",
        "        \n",
        "        Arguments\n",
        "            x, array (batch_size, n_features) - input samples.\n",
        "        \"\"\"\n",
        "        u = 0\n",
        "        if self._kernel == 'linear':\n",
        "            u = self._weights @ x.T - self._b\n",
        "        else:\n",
        "            # print(f'data.shape:: {self._data.shape}')\n",
        "            # print(f'target.shape:: {self._targets.shape}')\n",
        "            for i in range(self._data.shape[0]):\n",
        "                # print(f'target:: {self._targets[i].shape}')\n",
        "                # print(f'alphas:: {self._alphas[i].shape}')\n",
        "                # print(f'b:: {self._b}')\n",
        "                # print(f'kernel:: {self._k(self._data[i], x,3)}')\n",
        "                u += self._targets[i] * self._alphas[i] * self._k(self._data[i], x,self._degree)\n",
        "            u -= self._b\n",
        "\n",
        "        return u\n",
        "        \n",
        "    def predict(self, x):\n",
        "        \"\"\"Classifies input samples.\n",
        "        \n",
        "        Arguments\n",
        "            x, array (batch_size, n_features) - input samples.\n",
        "        \"\"\"\n",
        "        # print('In predict')\n",
        "        score = self.predict_score(x)\n",
        "\n",
        "        if type(score) is np.ndarray:\n",
        "            score[score < 0] = -1\n",
        "            score[score >= 0] = 1\n",
        "\n",
        "            return score\n",
        "        else:\n",
        "            return -1 if score < 0 else 1\n",
        "\n",
        "    def smo_step(self, i1, i2):\n",
        "        if i1 == i2:\n",
        "            return 0\n",
        "\n",
        "        x1 = self._data[i1]\n",
        "        x2 = self._data[i2]\n",
        "        y1 = self._targets[i1]\n",
        "        y2 = self._targets[i2]\n",
        "        alpha1 = self._alphas[i1]\n",
        "        alpha2 = self._alphas[i2]\n",
        "\n",
        "        # Compute errors for x1 and x2\n",
        "        e1 = self.predict_score(x1) - y1\n",
        "        e2 = self.predict_score(x2) - y2\n",
        "\n",
        "        s = y1 * y2\n",
        "\n",
        "        if s == 1:\n",
        "            L = max(0, alpha2 + alpha1 - self._c)\n",
        "            H = min(self._c, alpha2 + alpha1)\n",
        "        else:\n",
        "            L = max(0, alpha2 - alpha1)\n",
        "            H = min(self._c, self._c + alpha2 - alpha1)\n",
        "\n",
        "        if L == H:\n",
        "            return 0\n",
        "      \n",
        "        k11 = self._k(x1, x1,self._degree)\n",
        "        k22 = self._k(x2, x2,self._degree)\n",
        "        k12 = self._k(x1, x2,self._degree)\n",
        "\n",
        "        eta = k11 + k22 - 2 * k12\n",
        "        a2 = 0\n",
        "        if eta > 0:\n",
        "            a2 = alpha2 + y2 * (e1 - e2) / eta\n",
        "            if a2 <= L:\n",
        "                a2 = L\n",
        "            elif a2 >= H:\n",
        "                a2 = H\n",
        "        # TODO: the negative case\n",
        "        else:\n",
        "            f1 = (y1 * (e1 + self._b)) - (alpha1 * k11) - (s * alpha2 * k12)\n",
        "            f2 = (y2 * (e2 + self._b)) - (s * alpha1 * k11) - (alpha2 * k22)\n",
        "            L1 = alpha1 + s * (alpha2 - L)\n",
        "            H1 = alpha1 + s * (alpha2 - H)\n",
        "            Lobj = (L1 * f1) + (L * f2) + (L1 * L1 * k11)/2 + (L * L * k22)/2 + (s * L * L1 * k12)\n",
        "            Hobj = (H1 * f1) + (H * f2) + (H1 * H1 * k11)/2 + (H * H * k22)/2 + (s * H * H1 * k12)\n",
        "            if Lobj < Hobj - 1e-3:\n",
        "                a2 = L\n",
        "            elif Lobj> Hobj + 1e-3:\n",
        "                a2 = H\n",
        "            else:\n",
        "                a2 = alpha2\n",
        "            print(f\"[DEBUG] smo_step: eta = {eta}\")\n",
        "               \n",
        "        if np.abs(a2 - alpha2) < 1e-3 * (a2 + alpha2 + 1e-3):\n",
        "            return 0\n",
        "\n",
        "        a1 = alpha1 + s * (alpha2 - a2)\n",
        "\n",
        "        # Update threshold to reflect change in Lagrange multipliers\n",
        "        b1 = e1 + y1 * (a1 - alpha1) * k11 + y2 * (a2 - alpha2) * k12 + self._b\n",
        "        b2 = e2 + y1 * (a1 - alpha1) * k12 + y2 * (a2 - alpha2) * k22 + self._b\n",
        "        self._b = (b1 + b2) / 2\n",
        "\n",
        "        # Update weight vector to reflect change in a1 & a2, if SVM is linear\n",
        "        self._weights = np.sum((self._targets * self._alphas)[:, None] * self._data, axis=0)\n",
        "\n",
        "        \n",
        "        # Store a1 and a2 in alpha array\n",
        "        self._alphas[i1] = a1\n",
        "        self._alphas[i2] = a2\n",
        "\n",
        "        # update error cache using new multipliers\n",
        "        for i in range (self._data.shape[0]):\n",
        "            self._error_cache[i] = self.predict_score(self._data[i]) - self._targets[i]\n",
        "\n",
        "        return 1\n",
        "\n",
        "    def examine(self, i2):\n",
        "        x2 = self._data[i2]\n",
        "        y2 = self._targets[i2]\n",
        "        alpha2 = self._alphas[i2]\n",
        "        e2 = self.predict_score(x2) - y2\n",
        "        r2 = e2 * y2\n",
        "\n",
        "        # Heuristic for picking the first multiplier\n",
        "        if (r2 < -self._tol and alpha2 < self._c) or (r2 > self._tol and alpha2 > 0):\n",
        "            f_idxs = np.where((self._alphas != 0) & (self._alphas != self._c))[0]\n",
        "            if len(f_idxs) > 1:\n",
        "                # Hueristic for second multiplier: get i1 with lowest absolute error |e1 - e2|\n",
        "\n",
        "                # TODO: Clean this up\n",
        "                if e2 > 0:\n",
        "                    min_error = 999999\n",
        "                    for i, v in enumerate(f_idxs):\n",
        "                        if v == i2:\n",
        "                            continue\n",
        "\n",
        "                        if self._error_cache[v] == 0:\n",
        "                            self._error_cache[v] = self.predict_score(self._data[v]) - self._targets[v]\n",
        "                        error = np.abs(e2 - self._error_cache[v])\n",
        "\n",
        "                        if error < min_error:\n",
        "                            min_error = error\n",
        "                            i1 = v\n",
        "                else:\n",
        "                    max_error = -999999\n",
        "                    for i, v in enumerate(f_idxs):\n",
        "                        if v == i2:\n",
        "                            continue\n",
        "\n",
        "                        if self._error_cache[v] == 0:\n",
        "                            self._error_cache[v] = self.predict_score(self._data[v]) - self._targets[v]\n",
        "                        error = np.abs(e2 - self._error_cache[v])\n",
        "\n",
        "                        if error > max_error:\n",
        "                            max_error = error\n",
        "                            i1 = v\n",
        "\n",
        "                if self.smo_step(i1, i2):\n",
        "                    return 1\n",
        "                \n",
        "                # Loop over all non-zero and non-C alpha, starting at random point.\n",
        "                for i, v in enumerate(np.random.permutation(f_idxs)):\n",
        "                    if self.smo_step(v, i2):\n",
        "                        return 1\n",
        "                # Loop over all possible i1, starting at a random point\n",
        "                for i in range(self._data.shape[0]):\n",
        "                    if i == i2:\n",
        "                        continue\n",
        "                    if self.smo_step(i, i2):\n",
        "                        return 1\n",
        "                \n",
        "        return 0\n",
        "    \n",
        "    def fit(self, data, targets):\n",
        "        self._data = data\n",
        "        self._targets = targets\n",
        "        self._init_params()\n",
        "        \n",
        "        n_changed = 0\n",
        "        examine_all = True\n",
        "        n_iter = 0\n",
        "        \n",
        "        while (n_changed > 0 or examine_all is True) and n_iter < self._maxiter:\n",
        "            n_changed = 0\n",
        "            n_iter += 1\n",
        "            if examine_all is True:\n",
        "                # loop over all training examples\n",
        "                for i in range(data.shape[0]):\n",
        "                    n_changed += self.examine(i)\n",
        "            else:\n",
        "                # loop over examples where alpha is not 0 & not C\n",
        "                f_idxs = np.where((self._alphas != 0) & (self._alphas != self._c))[0]\n",
        "                for i, v in enumerate(f_idxs):\n",
        "                    n_changed += self.examine(v)\n",
        "            \n",
        "            if examine_all is True:\n",
        "                examine_all = False\n",
        "            elif n_changed == 0:\n",
        "                examine_all = True"
      ]
    },
    {
      "cell_type": "code",
      "source": [
        "n_a_samples = 50\n",
        "n_b_samples = 50\n",
        "\n",
        "a_samples = np.random.multivariate_normal([-1, 1], [[0.1, 0], [0, 0.1]], n_a_samples)\n",
        "b_samples = np.random.multivariate_normal([1, -1], [[0.1, 0], [0, 0.1]], n_b_samples)\n",
        "a_targets = np.ones(n_a_samples) * -1  # Samples from class A are assigned a class value of -1.\n",
        "b_targets = np.ones(n_b_samples)  # Samples from class B are assigned a class value of 1.\n",
        "\n",
        "samples = np.concatenate((a_samples, b_samples))\n",
        "targets = np.concatenate((a_targets, b_targets))\n",
        "print(samples.shape, targets.shape)"
      ],
      "metadata": {
        "id": "LZ_-EcX_ymxB",
        "colab": {
          "base_uri": "https://localhost:8080/"
        },
        "outputId": "a791b314-af2a-4066-a8c5-34467d38da5f"
      },
      "execution_count": 233,
      "outputs": [
        {
          "output_type": "stream",
          "name": "stdout",
          "text": [
            "(100, 2) (100,)\n"
          ]
        }
      ]
    },
    {
      "cell_type": "code",
      "source": [
        "model = svm(c=5.0)\n",
        "model.fit(samples, targets)\n",
        "print(model._weights)\n",
        "print(model._b)"
      ],
      "metadata": {
        "colab": {
          "base_uri": "https://localhost:8080/"
        },
        "id": "VK3jPEjHvj2f",
        "outputId": "7f4b2dcf-51e8-4e95-c4f3-04c8f2a084fa"
      },
      "execution_count": 234,
      "outputs": [
        {
          "output_type": "stream",
          "name": "stdout",
          "text": [
            "[ 0.97657116 -0.86704661]\n",
            "-0.37690469283295247\n"
          ]
        }
      ]
    },
    {
      "cell_type": "code",
      "source": [
        "print(f\"weights={model._weights}\")\n",
        "print(f\"b={model._b}\")\n",
        "\n",
        "fig = plt.figure()\n",
        "ax = plot_decision_regions(samples, targets.astype(np.int32), model)\n",
        "fig.add_subplot(ax)\n",
        "plt.show()"
      ],
      "metadata": {
        "colab": {
          "base_uri": "https://localhost:8080/",
          "height": 354
        },
        "id": "1QWOIDrqvpMF",
        "outputId": "e4056bee-887f-4c0a-d73a-0f92a040fdbb"
      },
      "execution_count": 235,
      "outputs": [
        {
          "output_type": "stream",
          "name": "stdout",
          "text": [
            "weights=[ 0.97657116 -0.86704661]\n",
            "b=-0.37690469283295247\n"
          ]
        },
        {
          "output_type": "stream",
          "name": "stderr",
          "text": [
            "/usr/local/lib/python3.7/dist-packages/mlxtend/plotting/decision_regions.py:244: MatplotlibDeprecationWarning: Passing unsupported keyword arguments to axis() will raise a TypeError in 3.3.\n",
            "  ax.axis(xmin=xx.min(), xmax=xx.max(), y_min=yy.min(), y_max=yy.max())\n"
          ]
        },
        {
          "output_type": "display_data",
          "data": {
            "text/plain": [
              "<Figure size 432x288 with 1 Axes>"
            ],
            "image/png": "[encoded data removed]"
          },
          "metadata": {
            "needs_background": "light"
          }
        }
      ]
    },
    {
      "cell_type": "code",
      "source": [
        "from sklearn.svm import LinearSVC\n",
        "sk_model = LinearSVC()\n",
        "sk_model.fit(samples, targets.astype(np.int32))\n",
        "\n",
        "print(f\"coef_={sk_model.coef_}\")\n",
        "print(f\"intercept={sk_model.intercept_}\")\n",
        "\n",
        "fig = plt.figure()\n",
        "ax = plot_decision_regions(samples, targets.astype(np.int32), sk_model)\n",
        "fig.add_subplot(ax)\n",
        "plt.show()"
      ],
      "metadata": {
        "colab": {
          "base_uri": "https://localhost:8080/",
          "height": 354
        },
        "id": "YSJESqwLvvP8",
        "outputId": "3d6a8f51-91ba-48c9-8f65-ecf2a4cb10a7"
      },
      "execution_count": 236,
      "outputs": [
        {
          "output_type": "stream",
          "name": "stdout",
          "text": [
            "coef_=[[ 0.77293034 -0.80049862]]\n",
            "intercept=[-0.04255239]\n"
          ]
        },
        {
          "output_type": "stream",
          "name": "stderr",
          "text": [
            "/usr/local/lib/python3.7/dist-packages/mlxtend/plotting/decision_regions.py:244: MatplotlibDeprecationWarning: Passing unsupported keyword arguments to axis() will raise a TypeError in 3.3.\n",
            "  ax.axis(xmin=xx.min(), xmax=xx.max(), y_min=yy.min(), y_max=yy.max())\n"
          ]
        },
        {
          "output_type": "display_data",
          "data": {
            "text/plain": [
              "<Figure size 432x288 with 1 Axes>"
            ],
            "image/png": "[encoded data removed]"
          },
          "metadata": {
            "needs_background": "light"
          }
        }
      ]
    },
    {
      "cell_type": "markdown",
      "source": [
        "### **Task 2 Starts here**"
      ],
      "metadata": {
        "id": "H828ySa9AgI5"
      }
    },
    {
      "cell_type": "code",
      "source": [
        "from sklearn.datasets import make_circles\n",
        "from sklearn.model_selection import train_test_split\n",
        "\n",
        "X, y = make_circles(n_samples=3_00, factor=0.3, noise=0.05, random_state=0)\n",
        "X_train, X_test, y_train, y_test = train_test_split(X, y, stratify=y, random_state=0)"
      ],
      "metadata": {
        "id": "Zzt4Cb3Lv0Fe"
      },
      "execution_count": 237,
      "outputs": []
    },
    {
      "cell_type": "code",
      "source": [
        "np.unique(y)"
      ],
      "metadata": {
        "colab": {
          "base_uri": "https://localhost:8080/"
        },
        "id": "VYh6rOT1TjYR",
        "outputId": "b7c6a9b0-1d20-4d68-a537-ef564dc75a9c"
      },
      "execution_count": 238,
      "outputs": [
        {
          "output_type": "execute_result",
          "data": {
            "text/plain": [
              "array([0, 1])"
            ]
          },
          "metadata": {},
          "execution_count": 238
        }
      ]
    },
    {
      "cell_type": "code",
      "source": [
        "_, (train_ax, test_ax) = plt.subplots(ncols=2, sharex=True, sharey=True, figsize=(8, 4))\n",
        "\n",
        "train_ax.scatter(X_train[:, 0], X_train[:, 1], c=y_train)\n",
        "train_ax.set_ylabel(\"Feature #1\")\n",
        "train_ax.set_xlabel(\"Feature #0\")\n",
        "train_ax.set_title(\"Training data\")\n",
        "\n",
        "test_ax.scatter(X_test[:, 0], X_test[:, 1], c=y_test)\n",
        "test_ax.set_xlabel(\"Feature #0\")\n",
        "_ = test_ax.set_title(\"Testing data\")"
      ],
      "metadata": {
        "colab": {
          "base_uri": "https://localhost:8080/",
          "height": 295
        },
        "id": "o8eV1MiywbdO",
        "outputId": "33a5f34c-a4f9-4fc5-d6ed-796f2d1c576a"
      },
      "execution_count": 239,
      "outputs": [
        {
          "output_type": "display_data",
          "data": {
            "text/plain": [
              "<Figure size 576x288 with 2 Axes>"
            ],
            "image/png": "[encoded data removed]"
          },
          "metadata": {
            "needs_background": "light"
          }
        }
      ]
    },
    {
      "cell_type": "code",
      "source": [
        "non_linear = svm(kernel='poly')"
      ],
      "metadata": {
        "id": "3NiYLYqiwiHS"
      },
      "execution_count": 240,
      "outputs": []
    },
    {
      "cell_type": "code",
      "source": [
        "non_linear.fit(X_train,y_train)"
      ],
      "metadata": {
        "id": "Vf7RhkohzECH"
      },
      "execution_count": 241,
      "outputs": []
    },
    {
      "cell_type": "code",
      "source": [
        "fig = plt.figure()\n",
        "ax = plot_decision_regions(X_test, y_test.astype(np.int32), non_linear)\n",
        "fig.add_subplot(ax)\n",
        "plt.show()"
      ],
      "metadata": {
        "colab": {
          "base_uri": "https://localhost:8080/",
          "height": 320
        },
        "id": "-ZXVvTv_CrUw",
        "outputId": "056b0800-8f46-4657-a34d-7fed0f3a388f"
      },
      "execution_count": 242,
      "outputs": [
        {
          "output_type": "stream",
          "name": "stderr",
          "text": [
            "/usr/local/lib/python3.7/dist-packages/mlxtend/plotting/decision_regions.py:244: MatplotlibDeprecationWarning: Passing unsupported keyword arguments to axis() will raise a TypeError in 3.3.\n",
            "  ax.axis(xmin=xx.min(), xmax=xx.max(), y_min=yy.min(), y_max=yy.max())\n"
          ]
        },
        {
          "output_type": "display_data",
          "data": {
            "text/plain": [
              "<Figure size 432x288 with 1 Axes>"
            ],
            "image/png": "[encoded data removed]"
          },
          "metadata": {
            "needs_background": "light"
          }
        }
      ]
    },
    {
      "cell_type": "code",
      "source": [
        "from sklearn.svm import SVC\n",
        "clf = SVC(gamma=\"auto\", kernel='poly')\n",
        "clf.fit(X_train, y_train)\n",
        "fig = plt.figure()\n",
        "ax = plot_decision_regions(X_test, y_test.astype(np.int32), clf)\n",
        "fig.add_subplot(ax)\n",
        "plt.show()"
      ],
      "metadata": {
        "id": "b6S3vvwDzUEQ",
        "colab": {
          "base_uri": "https://localhost:8080/",
          "height": 320
        },
        "outputId": "5f505038-208b-4018-8c54-350e3cbee3ca"
      },
      "execution_count": 243,
      "outputs": [
        {
          "output_type": "stream",
          "name": "stderr",
          "text": [
            "/usr/local/lib/python3.7/dist-packages/mlxtend/plotting/decision_regions.py:244: MatplotlibDeprecationWarning: Passing unsupported keyword arguments to axis() will raise a TypeError in 3.3.\n",
            "  ax.axis(xmin=xx.min(), xmax=xx.max(), y_min=yy.min(), y_max=yy.max())\n"
          ]
        },
        {
          "output_type": "display_data",
          "data": {
            "text/plain": [
              "<Figure size 432x288 with 1 Axes>"
            ],
            "image/png": "[encoded data removed]"
          },
          "metadata": {
            "needs_background": "light"
          }
        }
      ]
    },
    {
      "cell_type": "markdown",
      "source": [
        "### **Task 3 Starts here**"
      ],
      "metadata": {
        "id": "p7iofSznAv9r"
      }
    },
    {
      "cell_type": "code",
      "source": [
        "from sklearn import datasets\n",
        "data = datasets.load_iris()\n",
        "X = data.data\n",
        "y = data.target"
      ],
      "metadata": {
        "id": "lAh7uL3eNyYr"
      },
      "execution_count": 244,
      "outputs": []
    },
    {
      "cell_type": "code",
      "source": [
        "X_train, X_test, y_train, y_test = train_test_split(X, y, stratify=y, random_state=0)\n",
        "k = len(np.unique(y_train))\n"
      ],
      "metadata": {
        "id": "nkSpYieAOEYt"
      },
      "execution_count": 245,
      "outputs": []
    },
    {
      "cell_type": "code",
      "source": [
        "class MultiClass:\n",
        "  def __init__(self,k,kernel='linear', degree = 3,c=1.0, tol=1e-3,eps = 0.001, maxiter=1000) -> None:\n",
        "      self.k = k\n",
        "      self.models = {}\n",
        "      self.svc_model = SVC(gamma = 'auto',kernel = kernel)\n",
        "      self.predicted = []\n",
        "      for i in range(k):\n",
        "          self.models[str(i)] = svm(kernel, degree,c, tol,eps, maxiter)\n",
        "          \n",
        "      \n",
        "  def fit(self,X,y):\n",
        "      self.svc_model.fit(X,y)\n",
        "      for i in range(k):\n",
        "          target = y.copy()\n",
        "          target[target != i] = -1\n",
        "          target[target == i] = 1\n",
        "          self.models[str(i)].fit(X,target)\n",
        "          \n",
        "  def predict(self,X,y):\n",
        "      svc_predicted = self.svc_model.predict(X)\n",
        "      for i in range(k):\n",
        "          target = y.copy()\n",
        "          target[target != i] = -1\n",
        "          target[target == i] = 1\n",
        "          score = self.models[str(i)].predict_score(X)\n",
        "          self.predicted.append(score)\n",
        "      res = np.argmax(np.column_stack(self.predicted),axis = 1)\n",
        "      m_accuracy = (res == y)\n",
        "      svc_accuracy = (svc_predicted == y)\n",
        "      print(f'Multiclass SVM implemented Model accuracy: {m_accuracy.sum()/m_accuracy.size}')\n",
        "      print(f'Multiclass SVM sklearn Model accuracy: {svc_accuracy.sum()/svc_accuracy.size}')"
      ],
      "metadata": {
        "id": "uheF0OuQdUC6"
      },
      "execution_count": 246,
      "outputs": []
    },
    {
      "cell_type": "code",
      "source": [
        "linear = MultiClass(k,kernel = 'linear')\n",
        "linear.fit(X_train,y_train)\n",
        "linear.predict(X_test,y_test)"
      ],
      "metadata": {
        "colab": {
          "base_uri": "https://localhost:8080/"
        },
        "id": "gNKqcNZ6cwtW",
        "outputId": "062fb9c7-7813-4788-9b94-7efce00bb619"
      },
      "execution_count": 247,
      "outputs": [
        {
          "output_type": "stream",
          "name": "stdout",
          "text": [
            "Multiclass SVM implemented Model accuracy: 0.6842105263157895\n",
            "Multiclass SVM sklearn Model accuracy: 1.0\n"
          ]
        }
      ]
    },
    {
      "cell_type": "code",
      "source": [
        "linear = MultiClass(k,kernel = 'poly')\n",
        "linear.fit(X_train,y_train)\n",
        "linear.predict(X_test,y_test)\n"
      ],
      "metadata": {
        "colab": {
          "base_uri": "https://localhost:8080/"
        },
        "id": "fyJtnm-_c6pz",
        "outputId": "634530aa-090b-4eb2-cc55-c26710d4f466"
      },
      "execution_count": 248,
      "outputs": [
        {
          "output_type": "stream",
          "name": "stdout",
          "text": [
            "Multiclass SVM implemented Model accuracy: 1.0\n",
            "Multiclass SVM sklearn Model accuracy: 1.0\n"
          ]
        }
      ]
    }
  ]
}