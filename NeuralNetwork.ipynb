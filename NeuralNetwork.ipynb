{
  "cells": [
    {
      "cell_type": "code",
      "execution_count": 1,
      "metadata": {
        "id": "lnzVMvikjrsj"
      },
      "outputs": [],
      "source": [
        "import numpy as np\n",
        "from keras.datasets import mnist\n",
        "import matplotlib.pyplot as plt\n",
        "import pickle"
      ]
    },
    {
      "cell_type": "code",
      "execution_count": 2,
      "metadata": {
        "colab": {
          "base_uri": "https://localhost:8080/"
        },
        "id": "Q00aIjVCIHWn",
        "outputId": "d5bc83be-bec3-4911-da13-bc6e1d71eae7"
      },
      "outputs": [
        {
          "output_type": "stream",
          "name": "stdout",
          "text": [
            "Downloading data from https://storage.googleapis.com/tensorflow/tf-keras-datasets/mnist.npz\n",
            "11493376/11490434 [==============================] - 0s 0us/step\n",
            "11501568/11490434 [==============================] - 0s 0us/step\n"
          ]
        }
      ],
      "source": [
        "(X_train,y_train),(X_test,y_test) = mnist.load_data()"
      ]
    },
    {
      "cell_type": "code",
      "execution_count": 3,
      "metadata": {
        "id": "KCaVPy0rINu1"
      },
      "outputs": [],
      "source": [
        "X_train = X_train.reshape(X_train.shape[0],1,28*28)\n",
        "X_train = X_train.astype(np.float64)\n",
        "X_train /= 255\n",
        "X_train = X_train.squeeze()"
      ]
    },
    {
      "cell_type": "code",
      "execution_count": 4,
      "metadata": {
        "colab": {
          "base_uri": "https://localhost:8080/"
        },
        "id": "-T45VCSXPECo",
        "outputId": "f5a5a6a4-88f1-406c-9aa6-cce9f87d30df"
      },
      "outputs": [
        {
          "output_type": "execute_result",
          "data": {
            "text/plain": [
              "(60000, 784)"
            ]
          },
          "metadata": {},
          "execution_count": 4
        }
      ],
      "source": [
        "X_train.shape"
      ]
    },
    {
      "cell_type": "code",
      "execution_count": 5,
      "metadata": {
        "id": "c7yvUVKzKmgq"
      },
      "outputs": [],
      "source": [
        "X_test = X_test.reshape(X_test.shape[0],1,28*28)\n",
        "X_test = X_test.astype(np.float64).squeeze()\n",
        "X_test /= 255"
      ]
    },
    {
      "cell_type": "code",
      "execution_count": 6,
      "metadata": {
        "id": "u6tdEFq2j7yk"
      },
      "outputs": [],
      "source": [
        "class Layer:\n",
        "  def __init__(self):\n",
        "      self.input = None\n",
        "      self.output = None\n",
        "\n",
        "  def forward_propogation(self,X,y):\n",
        "    pass\n",
        "\n",
        "  def backward_propogation(self,X,y):\n",
        "    pass"
      ]
    },
    {
      "cell_type": "code",
      "execution_count": 7,
      "metadata": {
        "id": "cisyORSgoWG1"
      },
      "outputs": [],
      "source": [
        "class Linear(Layer):\n",
        "  def __init__(self, input,output,range = None):\n",
        "      super().__init__()\n",
        "      if range == None:\n",
        "        self.weights = np.zeros((output, input))\n",
        "        self.bias = np.zeros((output))\n",
        "      else:\n",
        "        self.weights = (np.random.rand(output,input) * 2 * range) - range\n",
        "        self.bias = np.random.rand(output) - 0.5\n",
        "\n",
        "  def forward_propogation(self, X):\n",
        "      self.X = X\n",
        "      self.output = ((self.weights @ self.X.T).T + self.bias)\n",
        "      return self.output\n",
        "\n",
        "  def backward_propogation(self, error_output, alpha):\n",
        "    error = error_output @ self.weights\n",
        "    self.w_error = error_output.T @ self.X\n",
        "    self.weights = self.weights - (alpha*self.w_error)\n",
        "    self.bias = self.bias-(alpha*error_output)\n",
        "    return error"
      ]
    },
    {
      "cell_type": "code",
      "execution_count": 8,
      "metadata": {
        "id": "xMPIZaiwEaeI"
      },
      "outputs": [],
      "source": [
        "class sigmoid(Layer):\n",
        "  def __init__(self):\n",
        "      super().__init__()\n",
        "\n",
        "  def forward_propogation(self,input):\n",
        "    self.input = 1.0/(1.0+np.exp(-input))\n",
        "    return self.input\n",
        "    \n",
        "  def backward_propogation(self,error_output,alpha):\n",
        "    # print('input'+str(self.input.T))\n",
        "    # print('eeror output'+str(error_output))\n",
        "    return self.input * (1 - self.input) * error_output"
      ]
    },
    {
      "cell_type": "code",
      "execution_count": 9,
      "metadata": {
        "id": "lRHKBmOg_YsH"
      },
      "outputs": [],
      "source": [
        "class tanh(Layer):\n",
        "  def __init__(self):\n",
        "      super().__init__()\n",
        "      \n",
        "  def forward_propogation(self,input):\n",
        "    self.input = np.tanh(input)\n",
        "    return self.input\n",
        "\n",
        "  def backward_propogation(self,error_output,alpha):\n",
        "    return (1 - self.input**2) * error_output"
      ]
    },
    {
      "cell_type": "code",
      "execution_count": 10,
      "metadata": {
        "id": "fDzGPttuqZRJ"
      },
      "outputs": [],
      "source": [
        "class softmax(Layer):\n",
        "  def __init__(self):\n",
        "      super().__init__()\n",
        "\n",
        "  def forward_propogation(self, input):\n",
        "      exps = np.exp(input - input.max())\n",
        "      return exps / np.sum(np.exp(exps), axis=0, keepdims=True)\n",
        "\n",
        "  def backward_propogation(self, error_output, alpha):\n",
        "    #   grad = 1/(1+np.exp(-self.input))\n",
        "    #   return grad * (1-grad) * error_output\n",
        "    # This derivative is already computed with crossEntropyLoss.\n",
        "    return error_output"
      ]
    },
    {
      "cell_type": "code",
      "execution_count": 11,
      "metadata": {
        "id": "bkwzuwGRCdrx"
      },
      "outputs": [],
      "source": [
        "class crossEntropyLoss(Layer):\n",
        "  def __init__(self):\n",
        "      super().__init__()\n",
        "\n",
        "  def forward_propogation(self,y,y_pred):\n",
        "    return -y * np.log(y_pred)\n",
        "\n",
        "  def backward_propogation(self,y,y_pred):\n",
        "    return y_pred - y"
      ]
    },
    {
      "cell_type": "code",
      "execution_count": 30,
      "metadata": {
        "id": "bw9NLdo2EQan"
      },
      "outputs": [],
      "source": [
        "class Sequential(Layer):\n",
        "  def __init__(self):\n",
        "      super().__init__()\n",
        "      self.layers = []\n",
        "      self.error = None\n",
        "      self.err = []\n",
        "\n",
        "  def add(self,layer):\n",
        "      self.layers.append(layer)\n",
        "\n",
        "  def set_error(self,error):\n",
        "    self.error = error\n",
        "\n",
        "  def fit(self, X, y,epochs = 10,alpha = 0.01):\n",
        "      self.alpha = alpha\n",
        "      n = X.shape[0]\n",
        "      count = 0\n",
        "      toterror = list()\n",
        "      for i in range(epochs):\n",
        "          total_error = 0\n",
        "    \n",
        "          for j in range(n):\n",
        "              y_pred = X[j]\n",
        "              if (y_pred.ndim == 1):\n",
        "                y_pred = y_pred[None, :]\n",
        "              # print(y_pred.shape)\n",
        "              #Forward Propogation\n",
        "              for k in self.layers:\n",
        "                  y_pred = k.forward_propogation(y_pred)\n",
        "              #Error for current \n",
        "              # NOTE: Compute the mean over the batch (not implemented yet) and then sum them up.\n",
        "              total_error += np.sum(np.mean(self.error.forward_propogation(y[j],y_pred), axis=0))\n",
        "              output_error = np.array(self.error.backward_propogation(y[j],y_pred))\n",
        "              \n",
        "              #Backward Propogation\n",
        "              for k in reversed(self.layers):\n",
        "                  output_error = k.backward_propogation(output_error,alpha)\n",
        "          count += 1\n",
        "          \n",
        "          total_error = total_error/n\n",
        "          self.err.append(round(total_error,6))\n",
        "          #Early Stopping if accuracy doesn't change for 5 steps\n",
        "          if count>5 and all(a == self.err[-1:] for a in self.err[-5:]):\n",
        "            break\n",
        "          print('epoch %d-------------------> error: %f'%(i+1,total_error))\n",
        "\n",
        "\n",
        "  def predict(self,X,probability = False):\n",
        "    n = X.shape[0]\n",
        "    y_pred_matrix = []\n",
        "    y_pred = []\n",
        "    for i in range(n):\n",
        "      out = X[i]\n",
        "\n",
        "      for j in self.layers:\n",
        "          out = j.forward_propogation(out)\n",
        "      y_pred_matrix.append(out)\n",
        "\n",
        "    if probability:\n",
        "      return y_pred_matrix\n",
        "    # print(y_pred_matrix[0])\n",
        "    for i in y_pred_matrix:\n",
        "      i[i>0.5] = 1\n",
        "      i[i<0.5] = 0\n",
        "    print(y_pred_matrix[0])     \n",
        "    # for res in y_pred_matrix:\n",
        "    #   y_pred.append(np.argmax(res))\n",
        "    return np.array(y_pred_matrix)\n",
        "\n",
        "  def plot(self):\n",
        "    plt.figure(figsize=(15,5))\n",
        "    plt.plot(self.err, '--r')\n",
        "    plt.title(f\"Loss vs Epochs :: Learning Rate : {self.alpha}\", fontsize=18)\n",
        "    plt.xlabel(\"Epochs\",fontsize=18)\n",
        "    plt.ylabel(\"loss\", fontsize=18)\n",
        "    plt.show()\n"
      ]
    },
    {
      "cell_type": "code",
      "execution_count": 13,
      "metadata": {
        "id": "txb2Kwj9UHi-"
      },
      "outputs": [],
      "source": [
        "samples = np.array([[0, 0],\n",
        "                    [0, 1],\n",
        "                    [1, 0],\n",
        "                    [1, 1]])\n",
        "targets = np.array([[0], [1], [1], [0]])\n"
      ]
    },
    {
      "cell_type": "code",
      "execution_count": 14,
      "metadata": {
        "colab": {
          "base_uri": "https://localhost:8080/",
          "height": 282
        },
        "id": "R1jZW4WZVZMj",
        "outputId": "43ee3d4b-39a4-4772-a960-d48e3b242d8e"
      },
      "outputs": [
        {
          "output_type": "execute_result",
          "data": {
            "text/plain": [
              "<matplotlib.collections.PathCollection at 0x7ff814e14890>"
            ]
          },
          "metadata": {},
          "execution_count": 14
        },
        {
          "output_type": "display_data",
          "data": {
            "text/plain": [
              "<Figure size 432x288 with 1 Axes>"
            ],
            "image/png": "[encoded data removed]"
          },
          "metadata": {
            "needs_background": "light"
          }
        }
      ],
      "source": [
        "fig = plt.figure()\n",
        "ax = fig.add_subplot(111)\n",
        "ax.scatter(samples[:, 0], samples[:, 1], c=targets)"
      ]
    },
    {
      "cell_type": "code",
      "execution_count": 15,
      "metadata": {
        "id": "b8vXjlkJ3zw5"
      },
      "outputs": [],
      "source": [
        "model1 = Sequential()\n",
        "model1.add(Linear(2,2,2))\n",
        "model1.add(sigmoid())\n",
        "model1.add(Linear(2,1,2))\n",
        "model1.add(sigmoid())\n",
        "model1.set_error(crossEntropyLoss())\n"
      ]
    },
    {
      "cell_type": "code",
      "execution_count": 16,
      "metadata": {
        "colab": {
          "base_uri": "https://localhost:8080/"
        },
        "id": "Sx283E_J5poQ",
        "outputId": "7f469370-0b7a-45b4-af43-a4692ad1b8ba"
      },
      "outputs": [
        {
          "output_type": "stream",
          "name": "stdout",
          "text": [
            "epoch 1-------------------> error: 0.539421\n",
            "epoch 2-------------------> error: 0.538824\n",
            "epoch 3-------------------> error: 0.538230\n",
            "epoch 4-------------------> error: 0.537637\n",
            "epoch 5-------------------> error: 0.537046\n",
            "epoch 6-------------------> error: 0.536457\n",
            "epoch 7-------------------> error: 0.535870\n",
            "epoch 8-------------------> error: 0.535284\n",
            "epoch 9-------------------> error: 0.534700\n",
            "epoch 10-------------------> error: 0.534118\n"
          ]
        }
      ],
      "source": [
        "model1.fit(samples,targets,10,0.01)"
      ]
    },
    {
      "cell_type": "code",
      "execution_count": 17,
      "metadata": {
        "colab": {
          "base_uri": "https://localhost:8080/",
          "height": 362
        },
        "id": "iCK2K-MyZUZ-",
        "outputId": "447d914c-1ce3-40e6-d756-5311ec003df4"
      },
      "outputs": [
        {
          "output_type": "display_data",
          "data": {
            "text/plain": [
              "<Figure size 1080x360 with 1 Axes>"
            ],
            "image/png": "[encoded data removed]"
          },
          "metadata": {
            "needs_background": "light"
          }
        }
      ],
      "source": [
        "model1.plot()"
      ]
    },
    {
      "cell_type": "code",
      "execution_count": 18,
      "metadata": {
        "id": "M-aEVqSMj6JW"
      },
      "outputs": [],
      "source": [
        "with open('xor_solved.pkl', 'wb') as outp:\n",
        "    pickle.dump(model1, outp, pickle.HIGHEST_PROTOCOL)"
      ]
    },
    {
      "cell_type": "code",
      "execution_count": 20,
      "metadata": {
        "colab": {
          "base_uri": "https://localhost:8080/"
        },
        "id": "Fd8CnEKk8vL6",
        "outputId": "732e9fb7-00c3-4964-d5bf-e31620f6d676"
      },
      "outputs": [
        {
          "output_type": "stream",
          "name": "stdout",
          "text": [
            "epoch 1-------------------> error: 0.231183\n",
            "epoch 2-------------------> error: 0.231519\n",
            "epoch 3-------------------> error: 0.231853\n",
            "epoch 4-------------------> error: 0.232187\n",
            "epoch 5-------------------> error: 0.232521\n",
            "epoch 6-------------------> error: 0.232853\n",
            "epoch 7-------------------> error: 0.233185\n",
            "epoch 8-------------------> error: 0.233516\n",
            "epoch 9-------------------> error: 0.233846\n",
            "epoch 10-------------------> error: 0.234176\n"
          ]
        }
      ],
      "source": [
        "model2 = Sequential()\n",
        "model2.add(Linear(2,2,2))\n",
        "model2.add(tanh())\n",
        "model2.add(Linear(2,1,2))\n",
        "model2.add(sigmoid())\n",
        "model2.set_error(crossEntropyLoss())\n",
        "model2.fit(samples,targets,10,0.01)"
      ]
    },
    {
      "cell_type": "code",
      "execution_count": 20,
      "metadata": {
        "colab": {
          "base_uri": "https://localhost:8080/",
          "height": 362
        },
        "id": "FXZfnKikZ-4V",
        "outputId": "f2c77231-8e5f-49d7-bcba-4e138b6c4a0a"
      },
      "outputs": [
        {
          "output_type": "display_data",
          "data": {
            "text/plain": [
              "<Figure size 1080x360 with 1 Axes>"
            ],
            "image/png": "[encoded data removed]"
          },
          "metadata": {
            "needs_background": "light"
          }
        }
      ],
      "source": [
        "model2.plot()"
      ]
    },
    {
      "cell_type": "code",
      "execution_count": 21,
      "metadata": {
        "id": "zD_2QxWG-gSG"
      },
      "outputs": [],
      "source": [
        "def get_one_hot(targets, nb_classes):\n",
        "    res = np.eye(nb_classes)[np.array(targets).reshape(-1)]\n",
        "    return res.reshape(list(targets.shape)+[nb_classes])"
      ]
    },
    {
      "cell_type": "code",
      "execution_count": 22,
      "metadata": {
        "id": "S4wplWD-FNHV"
      },
      "outputs": [],
      "source": [
        "y_train =  get_one_hot(y_train.astype(int), 10)\n",
        "y_test = get_one_hot(y_test.astype(int), 10)"
      ]
    },
    {
      "cell_type": "code",
      "execution_count": null,
      "metadata": {
        "colab": {
          "base_uri": "https://localhost:8080/"
        },
        "id": "Y0w5Td5XFak1",
        "outputId": "b1b870e2-6177-4dbb-b5a3-0c3cdbcc041e"
      },
      "outputs": [
        {
          "output_type": "stream",
          "name": "stdout",
          "text": [
            "epoch 1-------------------> error: 1.470950\n",
            "epoch 2-------------------> error: 1.983296\n",
            "epoch 3-------------------> error: 2.136244\n",
            "epoch 4-------------------> error: 2.207836\n",
            "epoch 5-------------------> error: 2.246210\n",
            "epoch 6-------------------> error: 2.268104\n",
            "epoch 7-------------------> error: 2.281024\n",
            "epoch 8-------------------> error: 2.288801\n"
          ]
        }
      ],
      "source": [
        "\n",
        "model_1 = Sequential()\n",
        "model_1.add(Linear(28*28,64))\n",
        "model_1.add(tanh())\n",
        "model_1.add(Linear(64,10))\n",
        "model_1.add(sigmoid())\n",
        "model_1.set_error(crossEntropyLoss())\n",
        "model_1.fit(X_train,y_train,10,0.001)"
      ]
    },
    {
      "cell_type": "code",
      "execution_count": 29,
      "metadata": {
        "id": "PQ_X85DLOlOO",
        "colab": {
          "base_uri": "https://localhost:8080/"
        },
        "outputId": "664147b2-6be4-4590-b1f0-b58ce02d04fc"
      },
      "outputs": [
        {
          "output_type": "stream",
          "name": "stdout",
          "text": [
            "[[0. 0. 0. 0. 0. 0. 0. 0. 0. 0.]]\n"
          ]
        },
        {
          "output_type": "execute_result",
          "data": {
            "text/plain": [
              "array([[0., 0., 0., 0., 0., 0., 0., 0., 0., 0.]])"
            ]
          },
          "metadata": {},
          "execution_count": 29
        }
      ],
      "source": [
        "predicted = model_1.predict(X_test)"
      ]
    },
    {
      "cell_type": "code",
      "source": [
        "print(f'Accuracy of model 1 : {round(np.mean(predicted == y_test)*100,2)} %')"
      ],
      "metadata": {
        "colab": {
          "base_uri": "https://localhost:8080/"
        },
        "id": "UXaHlygOYcNw",
        "outputId": "1c525be0-a637-4e8f-93df-fcab1eb21226"
      },
      "execution_count": 26,
      "outputs": [
        {
          "output_type": "stream",
          "name": "stdout",
          "text": [
            "Accuracy of model 1 : 90.0 %\n"
          ]
        }
      ]
    },
    {
      "cell_type": "code",
      "execution_count": 81,
      "metadata": {
        "colab": {
          "base_uri": "https://localhost:8080/",
          "height": 362
        },
        "id": "5saNNwlrzYL6",
        "outputId": "cfeeee95-e979-47b6-e500-1694f887dd3a"
      },
      "outputs": [
        {
          "output_type": "display_data",
          "data": {
            "text/plain": [
              "<Figure size 1080x360 with 1 Axes>"
            ],
            "image/png": "[encoded data removed]"
          },
          "metadata": {
            "needs_background": "light"
          }
        }
      ],
      "source": [
        "model_1.plot()"
      ]
    },
    {
      "cell_type": "code",
      "execution_count": 82,
      "metadata": {
        "colab": {
          "base_uri": "https://localhost:8080/"
        },
        "id": "aNiTxNae1b4u",
        "outputId": "4ab6f3fd-1ba2-4752-8a0d-8027ed555aa8"
      },
      "outputs": [
        {
          "output_type": "stream",
          "name": "stdout",
          "text": [
            "epoch 1-------------------> error: 47.188610\n",
            "epoch 2-------------------> error: 74.531323\n",
            "epoch 3-------------------> error: 84.111409\n",
            "epoch 4-------------------> error: 88.908759\n",
            "epoch 5-------------------> error: 92.029252\n",
            "epoch 6-------------------> error: 94.082333\n",
            "epoch 7-------------------> error: 95.567963\n",
            "epoch 8-------------------> error: 96.877056\n",
            "epoch 9-------------------> error: 97.713883\n",
            "epoch 10-------------------> error: 98.347873\n"
          ]
        }
      ],
      "source": [
        "model_2 = Sequential()\n",
        "model_2.add(Linear(28*28,100,10))\n",
        "model_2.add(tanh())\n",
        "model_2.add(Linear(100,10,10))\n",
        "model_2.add(sigmoid())\n",
        "model_2.set_error(crossEntropyLoss())\n",
        "model_2.fit(X_train,y_train,10,0.01)"
      ]
    },
    {
      "cell_type": "code",
      "source": [
        "predicted = model_2.predict(X_test)\n",
        "print(f'Accuracy of model 2 : {round(np.mean(predicted == y_test)*100,2)} %')"
      ],
      "metadata": {
        "id": "4jE4zp9ZZBLA"
      },
      "execution_count": null,
      "outputs": []
    },
    {
      "cell_type": "code",
      "source": [
        "model_2.plot()"
      ],
      "metadata": {
        "colab": {
          "base_uri": "https://localhost:8080/",
          "height": 362
        },
        "id": "PP3pjsNEZKQH",
        "outputId": "98da4e99-9299-42a1-bff3-d77bccaf248d"
      },
      "execution_count": 84,
      "outputs": [
        {
          "output_type": "display_data",
          "data": {
            "text/plain": [
              "<Figure size 1080x360 with 1 Axes>"
            ],
            "image/png": "[encoded data removed]"
          },
          "metadata": {
            "needs_background": "light"
          }
        }
      ]
    },
    {
      "cell_type": "code",
      "execution_count": 85,
      "metadata": {
        "colab": {
          "base_uri": "https://localhost:8080/"
        },
        "id": "20gSnhuc75fO",
        "outputId": "9e91a07c-cb9b-420b-818d-2ad45974f176"
      },
      "outputs": [
        {
          "output_type": "stream",
          "name": "stdout",
          "text": [
            "epoch 1-------------------> error: 14.414839\n",
            "epoch 2-------------------> error: 14.530649\n",
            "epoch 3-------------------> error: 12.491681\n",
            "epoch 4-------------------> error: 10.793119\n",
            "epoch 5-------------------> error: 11.157114\n",
            "epoch 6-------------------> error: 10.648070\n",
            "epoch 7-------------------> error: 10.496581\n",
            "epoch 8-------------------> error: 11.047631\n",
            "epoch 9-------------------> error: 11.385967\n",
            "epoch 10-------------------> error: 12.430111\n"
          ]
        }
      ],
      "source": [
        "model_3 = Sequential()\n",
        "model_3.add(Linear(28*28,100,1))\n",
        "model_3.add(tanh())\n",
        "model_3.add(Linear(100,10,1))\n",
        "model_3.add(sigmoid())\n",
        "model_3.set_error(crossEntropyLoss())\n",
        "model_3.fit(X_train,y_train,10,1)"
      ]
    },
    {
      "cell_type": "code",
      "execution_count": 86,
      "metadata": {
        "id": "iNj3JJWpAsEn",
        "colab": {
          "base_uri": "https://localhost:8080/"
        },
        "outputId": "e937ac4e-fcad-4be4-9601-ec65ad133586"
      },
      "outputs": [
        {
          "output_type": "stream",
          "name": "stdout",
          "text": [
            "[[0. 0. 0. 0. 0. 0. 0. 1. 0. 0.]]\n",
            "Accuracy of model 3 : 84.86 %\n"
          ]
        }
      ],
      "source": [
        "predicted = model_3.predict(X_test)\n",
        "print(f'Accuracy of model 3 : {round(np.mean(predicted == y_test)*100,2)} %')"
      ]
    },
    {
      "cell_type": "code",
      "source": [
        "model_3.plot()"
      ],
      "metadata": {
        "colab": {
          "base_uri": "https://localhost:8080/",
          "height": 362
        },
        "id": "5yoR67ZfZR_P",
        "outputId": "c59eb1b6-1195-4dac-dfcc-218593eab7c6"
      },
      "execution_count": 87,
      "outputs": [
        {
          "output_type": "display_data",
          "data": {
            "text/plain": [
              "<Figure size 1080x360 with 1 Axes>"
            ],
            "image/png": "[encoded data removed]"
          },
          "metadata": {
            "needs_background": "light"
          }
        }
      ]
    },
    {
      "cell_type": "code",
      "source": [
        "model_4 = Sequential()\n",
        "model_4.add(Linear(28*28,100,1))\n",
        "model_4.add(tanh())\n",
        "model_4.add(Linear(100,10,1))\n",
        "model_4.add(sigmoid())\n",
        "model_4.set_error(crossEntropyLoss())\n",
        "model_4.fit(X_train,y_train,10,0.001)"
      ],
      "metadata": {
        "colab": {
          "base_uri": "https://localhost:8080/"
        },
        "id": "OY11wZx2ZTrY",
        "outputId": "842d2e06-f3d3-4211-cf3a-ea3384b641bc"
      },
      "execution_count": 88,
      "outputs": [
        {
          "output_type": "stream",
          "name": "stdout",
          "text": [
            "epoch 1-------------------> error: 8.701419\n",
            "epoch 2-------------------> error: 9.312245\n",
            "epoch 3-------------------> error: 8.675773\n",
            "epoch 4-------------------> error: 8.084560\n",
            "epoch 5-------------------> error: 7.655508\n",
            "epoch 6-------------------> error: 7.339316\n",
            "epoch 7-------------------> error: 7.139511\n",
            "epoch 8-------------------> error: 7.006572\n",
            "epoch 9-------------------> error: 6.913537\n",
            "epoch 10-------------------> error: 6.830590\n"
          ]
        }
      ]
    },
    {
      "cell_type": "code",
      "source": [
        "predicted = model_4.predict(X_test)\n",
        "print(f'Accuracy of model 4 : {round(np.mean(predicted == y_test)*100,2)} %')"
      ],
      "metadata": {
        "colab": {
          "base_uri": "https://localhost:8080/"
        },
        "id": "2CNHJ5AFZdTd",
        "outputId": "b409a440-aa80-45d5-a63c-bab84e96ca16"
      },
      "execution_count": 89,
      "outputs": [
        {
          "output_type": "stream",
          "name": "stdout",
          "text": [
            "[[0. 0. 0. 0. 0. 0. 0. 1. 0. 0.]]\n",
            "Accuracy of model 4 : 86.09 %\n"
          ]
        }
      ]
    },
    {
      "cell_type": "code",
      "source": [
        "model_4.plot()"
      ],
      "metadata": {
        "colab": {
          "base_uri": "https://localhost:8080/",
          "height": 362
        },
        "id": "huwea33ZZglW",
        "outputId": "2a231864-9b32-4006-aa89-8bf55562a614"
      },
      "execution_count": 90,
      "outputs": [
        {
          "output_type": "display_data",
          "data": {
            "text/plain": [
              "<Figure size 1080x360 with 1 Axes>"
            ],
            "image/png": "[encoded data removed]"
          },
          "metadata": {
            "needs_background": "light"
          }
        }
      ]
    },
    {
      "cell_type": "code",
      "source": [
        ""
      ],
      "metadata": {
        "id": "Cdq5YohjZiHL"
      },
      "execution_count": 90,
      "outputs": []
    }
  ],
  "metadata": {
    "colab": {
      "collapsed_sections": [],
      "name": "NeuralNetwork (1).ipynb",
      "provenance": []
    },
    "kernelspec": {
      "display_name": "Python 3.7.12 ('cse6363')",
      "language": "python",
      "name": "python3"
    },
    "language_info": {
      "codemirror_mode": {
        "name": "ipython",
        "version": 3
      },
      "file_extension": ".py",
      "mimetype": "text/x-python",
      "name": "python",
      "nbconvert_exporter": "python",
      "pygments_lexer": "ipython3",
      "version": "3.7.12"
    },
    "vscode": {
      "interpreter": {
        "hash": "53ef4221aa1ddcebf8ffe152ce07046cd10cba6b415b9c2173d01d52e94eb207"
      }
    }
  },
  "nbformat": 4,
  "nbformat_minor": 0
}